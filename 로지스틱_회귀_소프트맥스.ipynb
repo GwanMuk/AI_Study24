{
  "nbformat": 4,
  "nbformat_minor": 0,
  "metadata": {
    "colab": {
      "provenance": [],
      "toc_visible": true,
      "authorship_tag": "ABX9TyPvYnzeO9q7Ex9dzTVBaMrI",
      "include_colab_link": true
    },
    "kernelspec": {
      "name": "python3",
      "display_name": "Python 3"
    },
    "language_info": {
      "name": "python"
    }
  },
  "cells": [
    {
      "cell_type": "markdown",
      "metadata": {
        "id": "view-in-github",
        "colab_type": "text"
      },
      "source": [
        "<a href=\"https://colab.research.google.com/github/GwanMuk/AI_Study24/blob/master/%EB%A1%9C%EC%A7%80%EC%8A%A4%ED%8B%B1_%ED%9A%8C%EA%B7%80_%EC%86%8C%ED%94%84%ED%8A%B8%EB%A7%A5%EC%8A%A4.ipynb\" target=\"_parent\"><img src=\"https://colab.research.google.com/assets/colab-badge.svg\" alt=\"Open In Colab\"/></a>"
      ]
    },
    {
      "cell_type": "markdown",
      "source": [
        "MBC 쇼핑몰에서는 럭키백을 판매하기로 하였다.\n",
        "\n",
        "럭키백에는 생성이 들어있는데 종류가 7가지로 랜덤하게 들어 있다.\n",
        "\n",
        "럭키백의 확률을 표시해야 함 : 들어있는 7가지의 생선의 확률이 필요함"
      ],
      "metadata": {
        "id": "xzxGufkzqSRo"
      }
    },
    {
      "cell_type": "code",
      "execution_count": null,
      "metadata": {
        "id": "1eRqLMVZqNjB"
      },
      "outputs": [],
      "source": [
        "# 럭키백의 확률 : 생선이 7마리라고 가정함\n",
        "# 생선의 크기, 무게 (길이, 높이, 두께, 대각선의 길이, 무게)"
      ]
    },
    {
      "cell_type": "markdown",
      "source": [
        " K-최근접 알고리즘을 이용해보면 회귀일까 분류일까를 먼저 고민해야 함\n",
        "\n",
        " 확률을 알고 싶은 것이기 때문에 회귀를 사용해보자\n",
        "\n",
        "* 샘플 10개중에 농어가 3마리면?  3 / 10 = 0.3\n",
        "* 빙어가 5마리면? 5 / 10 = 0.5\n",
        "* 도미가 2마리면? 2 / 10 = 0.2  총 100%\n",
        "\n",
        "사이킷런의 k-최근접 이웃 분리기도 이와 동일한 방식으로 확률 계산도 해줌"
      ],
      "metadata": {
        "id": "5JsBcqKAyUir"
      }
    },
    {
      "cell_type": "code",
      "source": [
        "# 샘플 데이터 준비\n",
        "import pandas as pd                                 # 판다스로 csv파일을 처리함\n",
        "fish = pd.read_csv('https://bit.ly/fish_csv_data')  # 웹에 있는 파일을 가져옴\n",
        "fish.head()                                         # 제일 위쪽 데이터 5개를 보여줌\n",
        "# 종(스피시즈), 무게, 길이, 대각선, 키, 너비(두께)"
      ],
      "metadata": {
        "colab": {
          "base_uri": "https://localhost:8080/",
          "height": 206
        },
        "id": "bNQD9I_TzOVJ",
        "outputId": "a4666ce2-ec85-41d3-b377-55d9254338f2"
      },
      "execution_count": 3,
      "outputs": [
        {
          "output_type": "execute_result",
          "data": {
            "text/plain": [
              "  Species  Weight  Length  Diagonal   Height   Width\n",
              "0   Bream   242.0    25.4      30.0  11.5200  4.0200\n",
              "1   Bream   290.0    26.3      31.2  12.4800  4.3056\n",
              "2   Bream   340.0    26.5      31.1  12.3778  4.6961\n",
              "3   Bream   363.0    29.0      33.5  12.7300  4.4555\n",
              "4   Bream   430.0    29.0      34.0  12.4440  5.1340"
            ],
            "text/html": [
              "\n",
              "  <div id=\"df-8c813147-4b3a-4ce6-b2b5-9575dcd71785\" class=\"colab-df-container\">\n",
              "    <div>\n",
              "<style scoped>\n",
              "    .dataframe tbody tr th:only-of-type {\n",
              "        vertical-align: middle;\n",
              "    }\n",
              "\n",
              "    .dataframe tbody tr th {\n",
              "        vertical-align: top;\n",
              "    }\n",
              "\n",
              "    .dataframe thead th {\n",
              "        text-align: right;\n",
              "    }\n",
              "</style>\n",
              "<table border=\"1\" class=\"dataframe\">\n",
              "  <thead>\n",
              "    <tr style=\"text-align: right;\">\n",
              "      <th></th>\n",
              "      <th>Species</th>\n",
              "      <th>Weight</th>\n",
              "      <th>Length</th>\n",
              "      <th>Diagonal</th>\n",
              "      <th>Height</th>\n",
              "      <th>Width</th>\n",
              "    </tr>\n",
              "  </thead>\n",
              "  <tbody>\n",
              "    <tr>\n",
              "      <th>0</th>\n",
              "      <td>Bream</td>\n",
              "      <td>242.0</td>\n",
              "      <td>25.4</td>\n",
              "      <td>30.0</td>\n",
              "      <td>11.5200</td>\n",
              "      <td>4.0200</td>\n",
              "    </tr>\n",
              "    <tr>\n",
              "      <th>1</th>\n",
              "      <td>Bream</td>\n",
              "      <td>290.0</td>\n",
              "      <td>26.3</td>\n",
              "      <td>31.2</td>\n",
              "      <td>12.4800</td>\n",
              "      <td>4.3056</td>\n",
              "    </tr>\n",
              "    <tr>\n",
              "      <th>2</th>\n",
              "      <td>Bream</td>\n",
              "      <td>340.0</td>\n",
              "      <td>26.5</td>\n",
              "      <td>31.1</td>\n",
              "      <td>12.3778</td>\n",
              "      <td>4.6961</td>\n",
              "    </tr>\n",
              "    <tr>\n",
              "      <th>3</th>\n",
              "      <td>Bream</td>\n",
              "      <td>363.0</td>\n",
              "      <td>29.0</td>\n",
              "      <td>33.5</td>\n",
              "      <td>12.7300</td>\n",
              "      <td>4.4555</td>\n",
              "    </tr>\n",
              "    <tr>\n",
              "      <th>4</th>\n",
              "      <td>Bream</td>\n",
              "      <td>430.0</td>\n",
              "      <td>29.0</td>\n",
              "      <td>34.0</td>\n",
              "      <td>12.4440</td>\n",
              "      <td>5.1340</td>\n",
              "    </tr>\n",
              "  </tbody>\n",
              "</table>\n",
              "</div>\n",
              "    <div class=\"colab-df-buttons\">\n",
              "\n",
              "  <div class=\"colab-df-container\">\n",
              "    <button class=\"colab-df-convert\" onclick=\"convertToInteractive('df-8c813147-4b3a-4ce6-b2b5-9575dcd71785')\"\n",
              "            title=\"Convert this dataframe to an interactive table.\"\n",
              "            style=\"display:none;\">\n",
              "\n",
              "  <svg xmlns=\"http://www.w3.org/2000/svg\" height=\"24px\" viewBox=\"0 -960 960 960\">\n",
              "    <path d=\"M120-120v-720h720v720H120Zm60-500h600v-160H180v160Zm220 220h160v-160H400v160Zm0 220h160v-160H400v160ZM180-400h160v-160H180v160Zm440 0h160v-160H620v160ZM180-180h160v-160H180v160Zm440 0h160v-160H620v160Z\"/>\n",
              "  </svg>\n",
              "    </button>\n",
              "\n",
              "  <style>\n",
              "    .colab-df-container {\n",
              "      display:flex;\n",
              "      gap: 12px;\n",
              "    }\n",
              "\n",
              "    .colab-df-convert {\n",
              "      background-color: #E8F0FE;\n",
              "      border: none;\n",
              "      border-radius: 50%;\n",
              "      cursor: pointer;\n",
              "      display: none;\n",
              "      fill: #1967D2;\n",
              "      height: 32px;\n",
              "      padding: 0 0 0 0;\n",
              "      width: 32px;\n",
              "    }\n",
              "\n",
              "    .colab-df-convert:hover {\n",
              "      background-color: #E2EBFA;\n",
              "      box-shadow: 0px 1px 2px rgba(60, 64, 67, 0.3), 0px 1px 3px 1px rgba(60, 64, 67, 0.15);\n",
              "      fill: #174EA6;\n",
              "    }\n",
              "\n",
              "    .colab-df-buttons div {\n",
              "      margin-bottom: 4px;\n",
              "    }\n",
              "\n",
              "    [theme=dark] .colab-df-convert {\n",
              "      background-color: #3B4455;\n",
              "      fill: #D2E3FC;\n",
              "    }\n",
              "\n",
              "    [theme=dark] .colab-df-convert:hover {\n",
              "      background-color: #434B5C;\n",
              "      box-shadow: 0px 1px 3px 1px rgba(0, 0, 0, 0.15);\n",
              "      filter: drop-shadow(0px 1px 2px rgba(0, 0, 0, 0.3));\n",
              "      fill: #FFFFFF;\n",
              "    }\n",
              "  </style>\n",
              "\n",
              "    <script>\n",
              "      const buttonEl =\n",
              "        document.querySelector('#df-8c813147-4b3a-4ce6-b2b5-9575dcd71785 button.colab-df-convert');\n",
              "      buttonEl.style.display =\n",
              "        google.colab.kernel.accessAllowed ? 'block' : 'none';\n",
              "\n",
              "      async function convertToInteractive(key) {\n",
              "        const element = document.querySelector('#df-8c813147-4b3a-4ce6-b2b5-9575dcd71785');\n",
              "        const dataTable =\n",
              "          await google.colab.kernel.invokeFunction('convertToInteractive',\n",
              "                                                    [key], {});\n",
              "        if (!dataTable) return;\n",
              "\n",
              "        const docLinkHtml = 'Like what you see? Visit the ' +\n",
              "          '<a target=\"_blank\" href=https://colab.research.google.com/notebooks/data_table.ipynb>data table notebook</a>'\n",
              "          + ' to learn more about interactive tables.';\n",
              "        element.innerHTML = '';\n",
              "        dataTable['output_type'] = 'display_data';\n",
              "        await google.colab.output.renderOutput(dataTable, element);\n",
              "        const docLink = document.createElement('div');\n",
              "        docLink.innerHTML = docLinkHtml;\n",
              "        element.appendChild(docLink);\n",
              "      }\n",
              "    </script>\n",
              "  </div>\n",
              "\n",
              "\n",
              "<div id=\"df-40e9ec2e-2210-4b62-8421-be33d5363d4b\">\n",
              "  <button class=\"colab-df-quickchart\" onclick=\"quickchart('df-40e9ec2e-2210-4b62-8421-be33d5363d4b')\"\n",
              "            title=\"Suggest charts\"\n",
              "            style=\"display:none;\">\n",
              "\n",
              "<svg xmlns=\"http://www.w3.org/2000/svg\" height=\"24px\"viewBox=\"0 0 24 24\"\n",
              "     width=\"24px\">\n",
              "    <g>\n",
              "        <path d=\"M19 3H5c-1.1 0-2 .9-2 2v14c0 1.1.9 2 2 2h14c1.1 0 2-.9 2-2V5c0-1.1-.9-2-2-2zM9 17H7v-7h2v7zm4 0h-2V7h2v10zm4 0h-2v-4h2v4z\"/>\n",
              "    </g>\n",
              "</svg>\n",
              "  </button>\n",
              "\n",
              "<style>\n",
              "  .colab-df-quickchart {\n",
              "      --bg-color: #E8F0FE;\n",
              "      --fill-color: #1967D2;\n",
              "      --hover-bg-color: #E2EBFA;\n",
              "      --hover-fill-color: #174EA6;\n",
              "      --disabled-fill-color: #AAA;\n",
              "      --disabled-bg-color: #DDD;\n",
              "  }\n",
              "\n",
              "  [theme=dark] .colab-df-quickchart {\n",
              "      --bg-color: #3B4455;\n",
              "      --fill-color: #D2E3FC;\n",
              "      --hover-bg-color: #434B5C;\n",
              "      --hover-fill-color: #FFFFFF;\n",
              "      --disabled-bg-color: #3B4455;\n",
              "      --disabled-fill-color: #666;\n",
              "  }\n",
              "\n",
              "  .colab-df-quickchart {\n",
              "    background-color: var(--bg-color);\n",
              "    border: none;\n",
              "    border-radius: 50%;\n",
              "    cursor: pointer;\n",
              "    display: none;\n",
              "    fill: var(--fill-color);\n",
              "    height: 32px;\n",
              "    padding: 0;\n",
              "    width: 32px;\n",
              "  }\n",
              "\n",
              "  .colab-df-quickchart:hover {\n",
              "    background-color: var(--hover-bg-color);\n",
              "    box-shadow: 0 1px 2px rgba(60, 64, 67, 0.3), 0 1px 3px 1px rgba(60, 64, 67, 0.15);\n",
              "    fill: var(--button-hover-fill-color);\n",
              "  }\n",
              "\n",
              "  .colab-df-quickchart-complete:disabled,\n",
              "  .colab-df-quickchart-complete:disabled:hover {\n",
              "    background-color: var(--disabled-bg-color);\n",
              "    fill: var(--disabled-fill-color);\n",
              "    box-shadow: none;\n",
              "  }\n",
              "\n",
              "  .colab-df-spinner {\n",
              "    border: 2px solid var(--fill-color);\n",
              "    border-color: transparent;\n",
              "    border-bottom-color: var(--fill-color);\n",
              "    animation:\n",
              "      spin 1s steps(1) infinite;\n",
              "  }\n",
              "\n",
              "  @keyframes spin {\n",
              "    0% {\n",
              "      border-color: transparent;\n",
              "      border-bottom-color: var(--fill-color);\n",
              "      border-left-color: var(--fill-color);\n",
              "    }\n",
              "    20% {\n",
              "      border-color: transparent;\n",
              "      border-left-color: var(--fill-color);\n",
              "      border-top-color: var(--fill-color);\n",
              "    }\n",
              "    30% {\n",
              "      border-color: transparent;\n",
              "      border-left-color: var(--fill-color);\n",
              "      border-top-color: var(--fill-color);\n",
              "      border-right-color: var(--fill-color);\n",
              "    }\n",
              "    40% {\n",
              "      border-color: transparent;\n",
              "      border-right-color: var(--fill-color);\n",
              "      border-top-color: var(--fill-color);\n",
              "    }\n",
              "    60% {\n",
              "      border-color: transparent;\n",
              "      border-right-color: var(--fill-color);\n",
              "    }\n",
              "    80% {\n",
              "      border-color: transparent;\n",
              "      border-right-color: var(--fill-color);\n",
              "      border-bottom-color: var(--fill-color);\n",
              "    }\n",
              "    90% {\n",
              "      border-color: transparent;\n",
              "      border-bottom-color: var(--fill-color);\n",
              "    }\n",
              "  }\n",
              "</style>\n",
              "\n",
              "  <script>\n",
              "    async function quickchart(key) {\n",
              "      const quickchartButtonEl =\n",
              "        document.querySelector('#' + key + ' button');\n",
              "      quickchartButtonEl.disabled = true;  // To prevent multiple clicks.\n",
              "      quickchartButtonEl.classList.add('colab-df-spinner');\n",
              "      try {\n",
              "        const charts = await google.colab.kernel.invokeFunction(\n",
              "            'suggestCharts', [key], {});\n",
              "      } catch (error) {\n",
              "        console.error('Error during call to suggestCharts:', error);\n",
              "      }\n",
              "      quickchartButtonEl.classList.remove('colab-df-spinner');\n",
              "      quickchartButtonEl.classList.add('colab-df-quickchart-complete');\n",
              "    }\n",
              "    (() => {\n",
              "      let quickchartButtonEl =\n",
              "        document.querySelector('#df-40e9ec2e-2210-4b62-8421-be33d5363d4b button');\n",
              "      quickchartButtonEl.style.display =\n",
              "        google.colab.kernel.accessAllowed ? 'block' : 'none';\n",
              "    })();\n",
              "  </script>\n",
              "</div>\n",
              "\n",
              "    </div>\n",
              "  </div>\n"
            ],
            "application/vnd.google.colaboratory.intrinsic+json": {
              "type": "dataframe",
              "variable_name": "fish",
              "summary": "{\n  \"name\": \"fish\",\n  \"rows\": 159,\n  \"fields\": [\n    {\n      \"column\": \"Species\",\n      \"properties\": {\n        \"dtype\": \"category\",\n        \"num_unique_values\": 7,\n        \"samples\": [\n          \"Bream\",\n          \"Roach\",\n          \"Pike\"\n        ],\n        \"semantic_type\": \"\",\n        \"description\": \"\"\n      }\n    },\n    {\n      \"column\": \"Weight\",\n      \"properties\": {\n        \"dtype\": \"number\",\n        \"std\": 357.9783165508931,\n        \"min\": 0.0,\n        \"max\": 1650.0,\n        \"num_unique_values\": 101,\n        \"samples\": [\n          770.0,\n          51.5,\n          197.0\n        ],\n        \"semantic_type\": \"\",\n        \"description\": \"\"\n      }\n    },\n    {\n      \"column\": \"Length\",\n      \"properties\": {\n        \"dtype\": \"number\",\n        \"std\": 10.716328098884247,\n        \"min\": 8.4,\n        \"max\": 63.4,\n        \"num_unique_values\": 93,\n        \"samples\": [\n          14.7,\n          18.8,\n          19.6\n        ],\n        \"semantic_type\": \"\",\n        \"description\": \"\"\n      }\n    },\n    {\n      \"column\": \"Diagonal\",\n      \"properties\": {\n        \"dtype\": \"number\",\n        \"std\": 11.610245832690964,\n        \"min\": 8.8,\n        \"max\": 68.0,\n        \"num_unique_values\": 124,\n        \"samples\": [\n          39.2,\n          27.2,\n          23.1\n        ],\n        \"semantic_type\": \"\",\n        \"description\": \"\"\n      }\n    },\n    {\n      \"column\": \"Height\",\n      \"properties\": {\n        \"dtype\": \"number\",\n        \"std\": 4.286207619968867,\n        \"min\": 1.7284,\n        \"max\": 18.957,\n        \"num_unique_values\": 154,\n        \"samples\": [\n          15.438,\n          7.293,\n          2.8728\n        ],\n        \"semantic_type\": \"\",\n        \"description\": \"\"\n      }\n    },\n    {\n      \"column\": \"Width\",\n      \"properties\": {\n        \"dtype\": \"number\",\n        \"std\": 1.6858038699921671,\n        \"min\": 1.0476,\n        \"max\": 8.142,\n        \"num_unique_values\": 152,\n        \"samples\": [\n          3.1571,\n          1.3936,\n          3.6835\n        ],\n        \"semantic_type\": \"\",\n        \"description\": \"\"\n      }\n    }\n  ]\n}"
            }
          },
          "metadata": {},
          "execution_count": 3
        }
      ]
    },
    {
      "cell_type": "code",
      "source": [
        "print(pd.unique(fish['Species'])) # 유니크한 종류를 출력"
      ],
      "metadata": {
        "colab": {
          "base_uri": "https://localhost:8080/"
        },
        "id": "a1gwUOmc0TYR",
        "outputId": "c605c163-0f83-4152-8feb-9127dc96e799"
      },
      "execution_count": 4,
      "outputs": [
        {
          "output_type": "stream",
          "name": "stdout",
          "text": [
            "['Bream' 'Roach' 'Whitefish' 'Parkki' 'Perch' 'Pike' 'Smelt']\n"
          ]
        }
      ]
    },
    {
      "cell_type": "code",
      "source": [
        "# Bream : 브림(도미)\n",
        "# Roach : 로치(대구)\n",
        "# Whitefish : 잉어\n",
        "# Parkki : 붕어\n",
        "# Perch : 농어\n",
        "# Pike : 가물치\n",
        "# Smelt : 빙어\n",
        "# 7개 종의 어종이 분포되어 있음\n",
        "\n",
        "# 분석용 입력값 생성\n",
        "fish_input = fish[['Weight', 'Length', 'Diagonal', 'Height', 'Width']].to_numpy()\n",
        "# 원하는 필드를 넣어 필터링\n",
        "print(fish_input[:5]) # 앞에서 부터 5개만 출력"
      ],
      "metadata": {
        "colab": {
          "base_uri": "https://localhost:8080/"
        },
        "id": "Ydbokpmk1tNl",
        "outputId": "66631df9-e322-47a8-9e08-11b75ecbca9a"
      },
      "execution_count": 5,
      "outputs": [
        {
          "output_type": "stream",
          "name": "stdout",
          "text": [
            "[[242.      25.4     30.      11.52     4.02  ]\n",
            " [290.      26.3     31.2     12.48     4.3056]\n",
            " [340.      26.5     31.1     12.3778   4.6961]\n",
            " [363.      29.      33.5     12.73     4.4555]\n",
            " [430.      29.      34.      12.444    5.134 ]]\n"
          ]
        }
      ]
    },
    {
      "cell_type": "code",
      "source": [
        "# 정답 리스트 생성\n",
        "fish_target = fish['Species'].to_numpy()\n",
        "# fish[['Species']] 이렇게 하면 3차원 배열됨 (주의할 것)\n",
        "print(fish_target[:5])"
      ],
      "metadata": {
        "colab": {
          "base_uri": "https://localhost:8080/"
        },
        "id": "BSYVJIeV3aNW",
        "outputId": "5f89ccf1-dac7-4756-d444-c188b6bfe7d7"
      },
      "execution_count": 6,
      "outputs": [
        {
          "output_type": "stream",
          "name": "stdout",
          "text": [
            "['Bream' 'Bream' 'Bream' 'Bream' 'Bream']\n"
          ]
        }
      ]
    },
    {
      "cell_type": "code",
      "source": [
        "# 훈련세트 생성\n",
        "from sklearn.model_selection import train_test_split\n",
        "\n",
        "train_input, test_input, train_target, test_target = train_test_split(\n",
        "    fish_input, fish_target, random_state=42\n",
        ")\n",
        "\n",
        "print(train_input.shape, test_input.shape)\n",
        "# 훈련용은 119개의 5개의 특성\n",
        "# 테스트는 40개의 5개 특성"
      ],
      "metadata": {
        "colab": {
          "base_uri": "https://localhost:8080/"
        },
        "id": "rsrfQK2j4CZC",
        "outputId": "20d244a6-2814-462f-abb4-9cf2d68f8dbc"
      },
      "execution_count": 10,
      "outputs": [
        {
          "output_type": "stream",
          "name": "stdout",
          "text": [
            "(119, 5) (40, 5)\n"
          ]
        }
      ]
    },
    {
      "cell_type": "code",
      "source": [
        "from sklearn.preprocessing import StandardScaler\n",
        "\n",
        "ss = StandardScaler()    # 사이킷런의 전처리용(스케일 조정 : 표준점수화 )\n",
        "ss.fit(train_input)\n",
        "train_scaled = ss.transform(train_input)\n",
        "test_scaled = ss.transform(test_input)"
      ],
      "metadata": {
        "id": "JtcCCRqK4nQF"
      },
      "execution_count": 11,
      "outputs": []
    },
    {
      "cell_type": "code",
      "source": [
        "print(train_scaled[:5])"
      ],
      "metadata": {
        "colab": {
          "base_uri": "https://localhost:8080/"
        },
        "id": "mn6BWrXT5zY6",
        "outputId": "02855755-8509-43e7-af1f-637c7d6a67f0"
      },
      "execution_count": 12,
      "outputs": [
        {
          "output_type": "stream",
          "name": "stdout",
          "text": [
            "[[ 0.91965782  0.60943175  0.81041221  1.85194896  1.00075672]\n",
            " [ 0.30041219  1.54653445  1.45316551 -0.46981663  0.27291745]\n",
            " [-1.0858536  -1.68646987 -1.70848587 -1.70159849 -2.0044758 ]\n",
            " [-0.79734143 -0.60880176 -0.67486907 -0.82480589 -0.27631471]\n",
            " [-0.71289885 -0.73062511 -0.70092664 -0.0802298  -0.7033869 ]]\n"
          ]
        }
      ]
    },
    {
      "cell_type": "code",
      "source": [
        "# k-최근접 이웃 분류기의 확률 예측\n",
        "from sklearn.neighbors import KNeighborsClassifier  # 분류용\n",
        "\n",
        "kn = KNeighborsClassifier(n_neighbors=3)            # 이웃 3개 참고\n",
        "kn.fit(train_scaled, train_target)                  # 훈련 시작\n",
        "\n",
        "print(kn.score(train_scaled, train_target))         # 훈련 점수 : 89\n",
        "print(kn.score(test_scaled, test_target))           # 테스트 점수 : 85"
      ],
      "metadata": {
        "colab": {
          "base_uri": "https://localhost:8080/"
        },
        "id": "GZq31BR-5-Ma",
        "outputId": "654d7140-20c5-49b3-bac1-ecd2a8585724"
      },
      "execution_count": 13,
      "outputs": [
        {
          "output_type": "stream",
          "name": "stdout",
          "text": [
            "0.8907563025210085\n",
            "0.85\n"
          ]
        }
      ]
    },
    {
      "cell_type": "code",
      "source": [
        "# 전에는 0과 1을 찾는 이진분류였지만 지금 타겟에 7개의 어종을 넣었음\n",
        "print(kn.classes_)\n",
        "# 7개의 생선 어종이 들어있다. 2개이상 클래스가 포함된 문제를 다중 분류라고 함."
      ],
      "metadata": {
        "colab": {
          "base_uri": "https://localhost:8080/"
        },
        "id": "B-JYbJLY65jD",
        "outputId": "aa305f1c-a331-411a-ba6b-ce8f35789275"
      },
      "execution_count": 14,
      "outputs": [
        {
          "output_type": "stream",
          "name": "stdout",
          "text": [
            "['Bream' 'Parkki' 'Perch' 'Pike' 'Roach' 'Smelt' 'Whitefish']\n"
          ]
        }
      ]
    },
    {
      "cell_type": "code",
      "source": [
        "print(kn.predict(test_scaled[:5]))\n",
        "# 처음 5개의 샘플을 타겟값 에측 해보면 아래와 같다"
      ],
      "metadata": {
        "colab": {
          "base_uri": "https://localhost:8080/"
        },
        "id": "z4qnkkwM7nRT",
        "outputId": "86e07c6e-979c-4f41-d974-8ee36ae6fc92"
      },
      "execution_count": 16,
      "outputs": [
        {
          "output_type": "stream",
          "name": "stdout",
          "text": [
            "['Perch' 'Smelt' 'Pike' 'Perch' 'Perch']\n"
          ]
        }
      ]
    },
    {
      "cell_type": "code",
      "source": [
        "print(test_scaled[:5])"
      ],
      "metadata": {
        "colab": {
          "base_uri": "https://localhost:8080/"
        },
        "id": "GRBsE3RV72F6",
        "outputId": "f982fdb6-3209-4fe2-db06-66e4b4b8e60c"
      },
      "execution_count": 15,
      "outputs": [
        {
          "output_type": "stream",
          "name": "stdout",
          "text": [
            "[[-0.88741352 -0.91804565 -1.03098914 -0.90464451 -0.80762518]\n",
            " [-1.06924656 -1.50842035 -1.54345461 -1.58849582 -1.93803151]\n",
            " [-0.54401367  0.35641402  0.30663259 -0.8135697  -0.65388895]\n",
            " [-0.34698097 -0.23396068 -0.22320459 -0.11905019 -0.12233464]\n",
            " [-0.68475132 -0.51509149 -0.58801052 -0.8998784  -0.50124996]]\n"
          ]
        }
      ]
    },
    {
      "cell_type": "code",
      "source": [
        "import numpy as np\n",
        "\n",
        "proba = kn.predict_proba(test_scaled[:5])\n",
        "# 사이킷런이 번거로운 연산을 수행해줌으로 쉽게 결과가 나옴\n",
        "print(np.round(proba, decimals=4))\n",
        "# 소수점 네번째자리까지 표시(다섯번째에서 반올림)\n",
        "# Bream, Parkki, Perch, Pike, Roach, Smelt, Whitefish 순서"
      ],
      "metadata": {
        "colab": {
          "base_uri": "https://localhost:8080/"
        },
        "id": "HXsk-sB178si",
        "outputId": "6f811388-1391-4f34-9ffa-12a97990ed4b"
      },
      "execution_count": 18,
      "outputs": [
        {
          "output_type": "stream",
          "name": "stdout",
          "text": [
            "[[0.     0.     1.     0.     0.     0.     0.    ]\n",
            " [0.     0.     0.     0.     0.     1.     0.    ]\n",
            " [0.     0.     0.     1.     0.     0.     0.    ]\n",
            " [0.     0.     0.6667 0.     0.3333 0.     0.    ]\n",
            " [0.     0.     0.6667 0.     0.3333 0.     0.    ]]\n"
          ]
        }
      ]
    },
    {
      "cell_type": "markdown",
      "source": [
        "['Perch' 'Smelt' 'Pike' 'Perch' 'Perch']\n",
        "\n",
        "결과를 확인 할 수 있다."
      ],
      "metadata": {
        "id": "NQoDqEKC87PX"
      }
    },
    {
      "cell_type": "code",
      "source": [
        "# 이 모델이 계산한 확률이 가장 가까운 이웃의 비율이 맞는지 확인 필요함\n",
        "distancees, indexes = kn.kneighbors(test_scaled[3:4])   # 4번째 값을 자세히 보자\n",
        "print(train_target[indexes])\n",
        "#               Perch    Roach\n",
        "# [0.   0.    0.6667 0.   0.3333 0.   0.    ]\n",
        "# Perch 2/3, Roach1/3 이기 때문에 7개를 확율로 제공되지 못함\n",
        "# 이유 : n_neighbors = 3 으로 했기 떄문"
      ],
      "metadata": {
        "colab": {
          "base_uri": "https://localhost:8080/"
        },
        "id": "f9EmEDdq9kFb",
        "outputId": "132b73dc-2d89-45df-ee38-294cc01e20f6"
      },
      "execution_count": 19,
      "outputs": [
        {
          "output_type": "stream",
          "name": "stdout",
          "text": [
            "[['Roach' 'Perch' 'Perch']]\n"
          ]
        }
      ]
    },
    {
      "cell_type": "code",
      "source": [
        "# 알고리즘 변경해보자 : 로지스틱 회귀(LogisticRegreeion)\n",
        "# 로지스틱 회귀는 사이킷런에서 제공함 from sklearn.linear_model import LogisticRegression\n",
        "# 로지스틱 회귀는 이름이 회귀지만 분류하는 모델이다\n",
        "\n",
        "# 선형회귀와 동일하게 선형 방적싱을 학습한다\n",
        "# z = a * (Weight) + b * (Length) + c * (Diagonal) + d * (Height) + e * (Width) + f\n",
        "# a, b ,c ,d, e, f는 각 항목에 대한 가중치(중요도, 계수)이다\n",
        "# z는 어떤 값도 가능하다. 하지만 확율이 되려면 0~1(0% ~ 100%)사이 값이여야 한다.\n",
        "# z가 아주 큰 음수일 때 0, 아주 큰 양수일 때 1이 되도록 바꾸는 방법은 시그모이드 함수, 로지스틱 함수를 사용한다."
      ],
      "metadata": {
        "id": "lxPO69S7By6h"
      },
      "execution_count": null,
      "outputs": []
    },
    {
      "cell_type": "code",
      "source": [
        "import numpy as np\n",
        "import matplotlib.pyplot as plt\n",
        "\n",
        "# 시그모이드 함수용: z가 무한하게 큰 음수 일 경우 0에 가까워짐, z가 무한하게 큰 양수일 때 1에 가까워 짐\n",
        "z = np.arange(-5, 5 -0.1)   # -5 ~ 5까지 0.1간격으로 배열 생성\n",
        "phi = 1 / (1+np.exp(-z))    # np.exp() 함수로 시그모이드 적용\n",
        "\n",
        "plt.plot(z,phi)\n",
        "plt.xlabel('z')\n",
        "plt.ylabel('phi')\n",
        "plt.show()"
      ],
      "metadata": {
        "colab": {
          "base_uri": "https://localhost:8080/",
          "height": 449
        },
        "id": "1qDx4j6ADQCi",
        "outputId": "86d0d86b-6d9d-4326-c72a-6883fdef4969"
      },
      "execution_count": 21,
      "outputs": [
        {
          "output_type": "display_data",
          "data": {
            "text/plain": [
              "<Figure size 640x480 with 1 Axes>"
            ],
            "image/png": "[encoded data removed]"
          },
          "metadata": {}
        }
      ]
    },
    {
      "cell_type": "code",
      "source": [
        "# 선형방정식의 출력 z의 음수를 사용해 자연 상수 e를 거듭제곱하고 1을 더한 값의 역수를 취한다.\n",
        "# 이렇게 하면 0~1사이 값을 0~100% 확률로 해석 할 수 있다.\n",
        "\n",
        "# 훈련 전에 2진분류부터 알아보자.\n",
        "# 2진 분류인 경우에는 시그모이드 함구 출력이 0.5 보다 크면 양성, 0.5보다 작으면 음성으로 판단\n",
        "# 단. 0.5가 나오면 라이브러리마다 다른데 사이킷런은 음성으로 판단한다."
      ],
      "metadata": {
        "id": "pQzIPeoTFCpb"
      },
      "execution_count": null,
      "outputs": []
    },
    {
      "cell_type": "code",
      "source": [
        "# 로지스틱 회귀로 이진분류 수행 테스트\n",
        "\n",
        "# 넘파이 배열은 True, False값을 전달하여 행을 선택할 수 있다. (불리언 인덱싱)\n",
        "char_arr = np.array(['A', 'B', 'C', 'D', 'E'])\n",
        "print(char_arr[[True, False, True, False, False]]) # 불리언 인덱싱\n",
        "\n",
        "# 결과 : True값만 출력 된다."
      ],
      "metadata": {
        "colab": {
          "base_uri": "https://localhost:8080/"
        },
        "id": "c5gxz4qmGHgM",
        "outputId": "9b2a20f7-7618-4e3d-9000-455d4d33f771"
      },
      "execution_count": 23,
      "outputs": [
        {
          "output_type": "stream",
          "name": "stdout",
          "text": [
            "['A' 'C']\n"
          ]
        }
      ]
    },
    {
      "cell_type": "code",
      "source": [
        "# 위와 같은 방식으로 훈련 세트에서 도미(Bream)와 빙어(Smelt)의 행만 골라내보자.\n",
        "bream_smelt_indexes = (train_target == 'Bream') | (train_target == 'Smelt')\n",
        "#                                       도미   or   빙어\n",
        "\n",
        "# bream_smelt_indexes에 도미와 빙어일 경우 True이고 나머지는 False가 들어있다\n",
        "# 이 배열을 사용해서 train_scaled, train_target 배열에 인덱싱을 적용하면\n",
        "train_bream_smelt = train_scaled[bream_smelt_indexes]\n",
        "target_bream_smelt = train_target[bream_smelt_indexes]\n",
        "# 손쉽게 도미와 빙어 데이터만 골라낼 수 있다."
      ],
      "metadata": {
        "id": "4gcClUm5G4d0"
      },
      "execution_count": 25,
      "outputs": []
    },
    {
      "cell_type": "code",
      "source": [
        "# 사이킷런에 선형모델에 로지스틱 회귀클래스를 사용\n",
        "from sklearn.linear_model import LogisticRegression\n",
        "\n",
        "lr = LogisticRegression() # 로지스틱 회귀 객체를 변수에 연결\n",
        "lr.fit(train_bream_smelt, target_bream_smelt)   # 훈련 시작 - > 2진 분류로 나옴"
      ],
      "metadata": {
        "colab": {
          "base_uri": "https://localhost:8080/",
          "height": 80
        },
        "id": "dIFcgun5JB_2",
        "outputId": "d9deb94f-57be-4c69-cb0a-0b9a89bd74d0"
      },
      "execution_count": 27,
      "outputs": [
        {
          "output_type": "execute_result",
          "data": {
            "text/plain": [
              "LogisticRegression()"
            ],
            "text/html": [
              "<style>#sk-container-id-1 {\n",
              "  /* Definition of color scheme common for light and dark mode */\n",
              "  --sklearn-color-text: #000;\n",
              "  --sklearn-color-text-muted: #666;\n",
              "  --sklearn-color-line: gray;\n",
              "  /* Definition of color scheme for unfitted estimators */\n",
              "  --sklearn-color-unfitted-level-0: #fff5e6;\n",
              "  --sklearn-color-unfitted-level-1: #f6e4d2;\n",
              "  --sklearn-color-unfitted-level-2: #ffe0b3;\n",
              "  --sklearn-color-unfitted-level-3: chocolate;\n",
              "  /* Definition of color scheme for fitted estimators */\n",
              "  --sklearn-color-fitted-level-0: #f0f8ff;\n",
              "  --sklearn-color-fitted-level-1: #d4ebff;\n",
              "  --sklearn-color-fitted-level-2: #b3dbfd;\n",
              "  --sklearn-color-fitted-level-3: cornflowerblue;\n",
              "\n",
              "  /* Specific color for light theme */\n",
              "  --sklearn-color-text-on-default-background: var(--sg-text-color, var(--theme-code-foreground, var(--jp-content-font-color1, black)));\n",
              "  --sklearn-color-background: var(--sg-background-color, var(--theme-background, var(--jp-layout-color0, white)));\n",
              "  --sklearn-color-border-box: var(--sg-text-color, var(--theme-code-foreground, var(--jp-content-font-color1, black)));\n",
              "  --sklearn-color-icon: #696969;\n",
              "\n",
              "  @media (prefers-color-scheme: dark) {\n",
              "    /* Redefinition of color scheme for dark theme */\n",
              "    --sklearn-color-text-on-default-background: var(--sg-text-color, var(--theme-code-foreground, var(--jp-content-font-color1, white)));\n",
              "    --sklearn-color-background: var(--sg-background-color, var(--theme-background, var(--jp-layout-color0, #111)));\n",
              "    --sklearn-color-border-box: var(--sg-text-color, var(--theme-code-foreground, var(--jp-content-font-color1, white)));\n",
              "    --sklearn-color-icon: #878787;\n",
              "  }\n",
              "}\n",
              "\n",
              "#sk-container-id-1 {\n",
              "  color: var(--sklearn-color-text);\n",
              "}\n",
              "\n",
              "#sk-container-id-1 pre {\n",
              "  padding: 0;\n",
              "}\n",
              "\n",
              "#sk-container-id-1 input.sk-hidden--visually {\n",
              "  border: 0;\n",
              "  clip: rect(1px 1px 1px 1px);\n",
              "  clip: rect(1px, 1px, 1px, 1px);\n",
              "  height: 1px;\n",
              "  margin: -1px;\n",
              "  overflow: hidden;\n",
              "  padding: 0;\n",
              "  position: absolute;\n",
              "  width: 1px;\n",
              "}\n",
              "\n",
              "#sk-container-id-1 div.sk-dashed-wrapped {\n",
              "  border: 1px dashed var(--sklearn-color-line);\n",
              "  margin: 0 0.4em 0.5em 0.4em;\n",
              "  box-sizing: border-box;\n",
              "  padding-bottom: 0.4em;\n",
              "  background-color: var(--sklearn-color-background);\n",
              "}\n",
              "\n",
              "#sk-container-id-1 div.sk-container {\n",
              "  /* jupyter's `normalize.less` sets `[hidden] { display: none; }`\n",
              "     but bootstrap.min.css set `[hidden] { display: none !important; }`\n",
              "     so we also need the `!important` here to be able to override the\n",
              "     default hidden behavior on the sphinx rendered scikit-learn.org.\n",
              "     See: https://github.com/scikit-learn/scikit-learn/issues/21755 */\n",
              "  display: inline-block !important;\n",
              "  position: relative;\n",
              "}\n",
              "\n",
              "#sk-container-id-1 div.sk-text-repr-fallback {\n",
              "  display: none;\n",
              "}\n",
              "\n",
              "div.sk-parallel-item,\n",
              "div.sk-serial,\n",
              "div.sk-item {\n",
              "  /* draw centered vertical line to link estimators */\n",
              "  background-image: linear-gradient(var(--sklearn-color-text-on-default-background), var(--sklearn-color-text-on-default-background));\n",
              "  background-size: 2px 100%;\n",
              "  background-repeat: no-repeat;\n",
              "  background-position: center center;\n",
              "}\n",
              "\n",
              "/* Parallel-specific style estimator block */\n",
              "\n",
              "#sk-container-id-1 div.sk-parallel-item::after {\n",
              "  content: \"\";\n",
              "  width: 100%;\n",
              "  border-bottom: 2px solid var(--sklearn-color-text-on-default-background);\n",
              "  flex-grow: 1;\n",
              "}\n",
              "\n",
              "#sk-container-id-1 div.sk-parallel {\n",
              "  display: flex;\n",
              "  align-items: stretch;\n",
              "  justify-content: center;\n",
              "  background-color: var(--sklearn-color-background);\n",
              "  position: relative;\n",
              "}\n",
              "\n",
              "#sk-container-id-1 div.sk-parallel-item {\n",
              "  display: flex;\n",
              "  flex-direction: column;\n",
              "}\n",
              "\n",
              "#sk-container-id-1 div.sk-parallel-item:first-child::after {\n",
              "  align-self: flex-end;\n",
              "  width: 50%;\n",
              "}\n",
              "\n",
              "#sk-container-id-1 div.sk-parallel-item:last-child::after {\n",
              "  align-self: flex-start;\n",
              "  width: 50%;\n",
              "}\n",
              "\n",
              "#sk-container-id-1 div.sk-parallel-item:only-child::after {\n",
              "  width: 0;\n",
              "}\n",
              "\n",
              "/* Serial-specific style estimator block */\n",
              "\n",
              "#sk-container-id-1 div.sk-serial {\n",
              "  display: flex;\n",
              "  flex-direction: column;\n",
              "  align-items: center;\n",
              "  background-color: var(--sklearn-color-background);\n",
              "  padding-right: 1em;\n",
              "  padding-left: 1em;\n",
              "}\n",
              "\n",
              "\n",
              "/* Toggleable style: style used for estimator/Pipeline/ColumnTransformer box that is\n",
              "clickable and can be expanded/collapsed.\n",
              "- Pipeline and ColumnTransformer use this feature and define the default style\n",
              "- Estimators will overwrite some part of the style using the `sk-estimator` class\n",
              "*/\n",
              "\n",
              "/* Pipeline and ColumnTransformer style (default) */\n",
              "\n",
              "#sk-container-id-1 div.sk-toggleable {\n",
              "  /* Default theme specific background. It is overwritten whether we have a\n",
              "  specific estimator or a Pipeline/ColumnTransformer */\n",
              "  background-color: var(--sklearn-color-background);\n",
              "}\n",
              "\n",
              "/* Toggleable label */\n",
              "#sk-container-id-1 label.sk-toggleable__label {\n",
              "  cursor: pointer;\n",
              "  display: flex;\n",
              "  width: 100%;\n",
              "  margin-bottom: 0;\n",
              "  padding: 0.5em;\n",
              "  box-sizing: border-box;\n",
              "  text-align: center;\n",
              "  align-items: start;\n",
              "  justify-content: space-between;\n",
              "  gap: 0.5em;\n",
              "}\n",
              "\n",
              "#sk-container-id-1 label.sk-toggleable__label .caption {\n",
              "  font-size: 0.6rem;\n",
              "  font-weight: lighter;\n",
              "  color: var(--sklearn-color-text-muted);\n",
              "}\n",
              "\n",
              "#sk-container-id-1 label.sk-toggleable__label-arrow:before {\n",
              "  /* Arrow on the left of the label */\n",
              "  content: \"▸\";\n",
              "  float: left;\n",
              "  margin-right: 0.25em;\n",
              "  color: var(--sklearn-color-icon);\n",
              "}\n",
              "\n",
              "#sk-container-id-1 label.sk-toggleable__label-arrow:hover:before {\n",
              "  color: var(--sklearn-color-text);\n",
              "}\n",
              "\n",
              "/* Toggleable content - dropdown */\n",
              "\n",
              "#sk-container-id-1 div.sk-toggleable__content {\n",
              "  max-height: 0;\n",
              "  max-width: 0;\n",
              "  overflow: hidden;\n",
              "  text-align: left;\n",
              "  /* unfitted */\n",
              "  background-color: var(--sklearn-color-unfitted-level-0);\n",
              "}\n",
              "\n",
              "#sk-container-id-1 div.sk-toggleable__content.fitted {\n",
              "  /* fitted */\n",
              "  background-color: var(--sklearn-color-fitted-level-0);\n",
              "}\n",
              "\n",
              "#sk-container-id-1 div.sk-toggleable__content pre {\n",
              "  margin: 0.2em;\n",
              "  border-radius: 0.25em;\n",
              "  color: var(--sklearn-color-text);\n",
              "  /* unfitted */\n",
              "  background-color: var(--sklearn-color-unfitted-level-0);\n",
              "}\n",
              "\n",
              "#sk-container-id-1 div.sk-toggleable__content.fitted pre {\n",
              "  /* unfitted */\n",
              "  background-color: var(--sklearn-color-fitted-level-0);\n",
              "}\n",
              "\n",
              "#sk-container-id-1 input.sk-toggleable__control:checked~div.sk-toggleable__content {\n",
              "  /* Expand drop-down */\n",
              "  max-height: 200px;\n",
              "  max-width: 100%;\n",
              "  overflow: auto;\n",
              "}\n",
              "\n",
              "#sk-container-id-1 input.sk-toggleable__control:checked~label.sk-toggleable__label-arrow:before {\n",
              "  content: \"▾\";\n",
              "}\n",
              "\n",
              "/* Pipeline/ColumnTransformer-specific style */\n",
              "\n",
              "#sk-container-id-1 div.sk-label input.sk-toggleable__control:checked~label.sk-toggleable__label {\n",
              "  color: var(--sklearn-color-text);\n",
              "  background-color: var(--sklearn-color-unfitted-level-2);\n",
              "}\n",
              "\n",
              "#sk-container-id-1 div.sk-label.fitted input.sk-toggleable__control:checked~label.sk-toggleable__label {\n",
              "  background-color: var(--sklearn-color-fitted-level-2);\n",
              "}\n",
              "\n",
              "/* Estimator-specific style */\n",
              "\n",
              "/* Colorize estimator box */\n",
              "#sk-container-id-1 div.sk-estimator input.sk-toggleable__control:checked~label.sk-toggleable__label {\n",
              "  /* unfitted */\n",
              "  background-color: var(--sklearn-color-unfitted-level-2);\n",
              "}\n",
              "\n",
              "#sk-container-id-1 div.sk-estimator.fitted input.sk-toggleable__control:checked~label.sk-toggleable__label {\n",
              "  /* fitted */\n",
              "  background-color: var(--sklearn-color-fitted-level-2);\n",
              "}\n",
              "\n",
              "#sk-container-id-1 div.sk-label label.sk-toggleable__label,\n",
              "#sk-container-id-1 div.sk-label label {\n",
              "  /* The background is the default theme color */\n",
              "  color: var(--sklearn-color-text-on-default-background);\n",
              "}\n",
              "\n",
              "/* On hover, darken the color of the background */\n",
              "#sk-container-id-1 div.sk-label:hover label.sk-toggleable__label {\n",
              "  color: var(--sklearn-color-text);\n",
              "  background-color: var(--sklearn-color-unfitted-level-2);\n",
              "}\n",
              "\n",
              "/* Label box, darken color on hover, fitted */\n",
              "#sk-container-id-1 div.sk-label.fitted:hover label.sk-toggleable__label.fitted {\n",
              "  color: var(--sklearn-color-text);\n",
              "  background-color: var(--sklearn-color-fitted-level-2);\n",
              "}\n",
              "\n",
              "/* Estimator label */\n",
              "\n",
              "#sk-container-id-1 div.sk-label label {\n",
              "  font-family: monospace;\n",
              "  font-weight: bold;\n",
              "  display: inline-block;\n",
              "  line-height: 1.2em;\n",
              "}\n",
              "\n",
              "#sk-container-id-1 div.sk-label-container {\n",
              "  text-align: center;\n",
              "}\n",
              "\n",
              "/* Estimator-specific */\n",
              "#sk-container-id-1 div.sk-estimator {\n",
              "  font-family: monospace;\n",
              "  border: 1px dotted var(--sklearn-color-border-box);\n",
              "  border-radius: 0.25em;\n",
              "  box-sizing: border-box;\n",
              "  margin-bottom: 0.5em;\n",
              "  /* unfitted */\n",
              "  background-color: var(--sklearn-color-unfitted-level-0);\n",
              "}\n",
              "\n",
              "#sk-container-id-1 div.sk-estimator.fitted {\n",
              "  /* fitted */\n",
              "  background-color: var(--sklearn-color-fitted-level-0);\n",
              "}\n",
              "\n",
              "/* on hover */\n",
              "#sk-container-id-1 div.sk-estimator:hover {\n",
              "  /* unfitted */\n",
              "  background-color: var(--sklearn-color-unfitted-level-2);\n",
              "}\n",
              "\n",
              "#sk-container-id-1 div.sk-estimator.fitted:hover {\n",
              "  /* fitted */\n",
              "  background-color: var(--sklearn-color-fitted-level-2);\n",
              "}\n",
              "\n",
              "/* Specification for estimator info (e.g. \"i\" and \"?\") */\n",
              "\n",
              "/* Common style for \"i\" and \"?\" */\n",
              "\n",
              ".sk-estimator-doc-link,\n",
              "a:link.sk-estimator-doc-link,\n",
              "a:visited.sk-estimator-doc-link {\n",
              "  float: right;\n",
              "  font-size: smaller;\n",
              "  line-height: 1em;\n",
              "  font-family: monospace;\n",
              "  background-color: var(--sklearn-color-background);\n",
              "  border-radius: 1em;\n",
              "  height: 1em;\n",
              "  width: 1em;\n",
              "  text-decoration: none !important;\n",
              "  margin-left: 0.5em;\n",
              "  text-align: center;\n",
              "  /* unfitted */\n",
              "  border: var(--sklearn-color-unfitted-level-1) 1pt solid;\n",
              "  color: var(--sklearn-color-unfitted-level-1);\n",
              "}\n",
              "\n",
              ".sk-estimator-doc-link.fitted,\n",
              "a:link.sk-estimator-doc-link.fitted,\n",
              "a:visited.sk-estimator-doc-link.fitted {\n",
              "  /* fitted */\n",
              "  border: var(--sklearn-color-fitted-level-1) 1pt solid;\n",
              "  color: var(--sklearn-color-fitted-level-1);\n",
              "}\n",
              "\n",
              "/* On hover */\n",
              "div.sk-estimator:hover .sk-estimator-doc-link:hover,\n",
              ".sk-estimator-doc-link:hover,\n",
              "div.sk-label-container:hover .sk-estimator-doc-link:hover,\n",
              ".sk-estimator-doc-link:hover {\n",
              "  /* unfitted */\n",
              "  background-color: var(--sklearn-color-unfitted-level-3);\n",
              "  color: var(--sklearn-color-background);\n",
              "  text-decoration: none;\n",
              "}\n",
              "\n",
              "div.sk-estimator.fitted:hover .sk-estimator-doc-link.fitted:hover,\n",
              ".sk-estimator-doc-link.fitted:hover,\n",
              "div.sk-label-container:hover .sk-estimator-doc-link.fitted:hover,\n",
              ".sk-estimator-doc-link.fitted:hover {\n",
              "  /* fitted */\n",
              "  background-color: var(--sklearn-color-fitted-level-3);\n",
              "  color: var(--sklearn-color-background);\n",
              "  text-decoration: none;\n",
              "}\n",
              "\n",
              "/* Span, style for the box shown on hovering the info icon */\n",
              ".sk-estimator-doc-link span {\n",
              "  display: none;\n",
              "  z-index: 9999;\n",
              "  position: relative;\n",
              "  font-weight: normal;\n",
              "  right: .2ex;\n",
              "  padding: .5ex;\n",
              "  margin: .5ex;\n",
              "  width: min-content;\n",
              "  min-width: 20ex;\n",
              "  max-width: 50ex;\n",
              "  color: var(--sklearn-color-text);\n",
              "  box-shadow: 2pt 2pt 4pt #999;\n",
              "  /* unfitted */\n",
              "  background: var(--sklearn-color-unfitted-level-0);\n",
              "  border: .5pt solid var(--sklearn-color-unfitted-level-3);\n",
              "}\n",
              "\n",
              ".sk-estimator-doc-link.fitted span {\n",
              "  /* fitted */\n",
              "  background: var(--sklearn-color-fitted-level-0);\n",
              "  border: var(--sklearn-color-fitted-level-3);\n",
              "}\n",
              "\n",
              ".sk-estimator-doc-link:hover span {\n",
              "  display: block;\n",
              "}\n",
              "\n",
              "/* \"?\"-specific style due to the `<a>` HTML tag */\n",
              "\n",
              "#sk-container-id-1 a.estimator_doc_link {\n",
              "  float: right;\n",
              "  font-size: 1rem;\n",
              "  line-height: 1em;\n",
              "  font-family: monospace;\n",
              "  background-color: var(--sklearn-color-background);\n",
              "  border-radius: 1rem;\n",
              "  height: 1rem;\n",
              "  width: 1rem;\n",
              "  text-decoration: none;\n",
              "  /* unfitted */\n",
              "  color: var(--sklearn-color-unfitted-level-1);\n",
              "  border: var(--sklearn-color-unfitted-level-1) 1pt solid;\n",
              "}\n",
              "\n",
              "#sk-container-id-1 a.estimator_doc_link.fitted {\n",
              "  /* fitted */\n",
              "  border: var(--sklearn-color-fitted-level-1) 1pt solid;\n",
              "  color: var(--sklearn-color-fitted-level-1);\n",
              "}\n",
              "\n",
              "/* On hover */\n",
              "#sk-container-id-1 a.estimator_doc_link:hover {\n",
              "  /* unfitted */\n",
              "  background-color: var(--sklearn-color-unfitted-level-3);\n",
              "  color: var(--sklearn-color-background);\n",
              "  text-decoration: none;\n",
              "}\n",
              "\n",
              "#sk-container-id-1 a.estimator_doc_link.fitted:hover {\n",
              "  /* fitted */\n",
              "  background-color: var(--sklearn-color-fitted-level-3);\n",
              "}\n",
              "</style><div id=\"sk-container-id-1\" class=\"sk-top-container\"><div class=\"sk-text-repr-fallback\"><pre>LogisticRegression()</pre><b>In a Jupyter environment, please rerun this cell to show the HTML representation or trust the notebook. <br />On GitHub, the HTML representation is unable to render, please try loading this page with nbviewer.org.</b></div><div class=\"sk-container\" hidden><div class=\"sk-item\"><div class=\"sk-estimator fitted sk-toggleable\"><input class=\"sk-toggleable__control sk-hidden--visually\" id=\"sk-estimator-id-1\" type=\"checkbox\" checked><label for=\"sk-estimator-id-1\" class=\"sk-toggleable__label fitted sk-toggleable__label-arrow\"><div><div>LogisticRegression</div></div><div><a class=\"sk-estimator-doc-link fitted\" rel=\"noreferrer\" target=\"_blank\" href=\"https://scikit-learn.org/1.6/modules/generated/sklearn.linear_model.LogisticRegression.html\">?<span>Documentation for LogisticRegression</span></a><span class=\"sk-estimator-doc-link fitted\">i<span>Fitted</span></span></div></label><div class=\"sk-toggleable__content fitted\"><pre>LogisticRegression()</pre></div> </div></div></div></div>"
            ]
          },
          "metadata": {},
          "execution_count": 27
        }
      ]
    },
    {
      "cell_type": "code",
      "source": [
        "# train_bream_smelt 처음 5개의 값으로 결론을 보자\n",
        "print(lr.predict(train_bream_smelt[:5]))  # 도미 4개 빙어 1개"
      ],
      "metadata": {
        "colab": {
          "base_uri": "https://localhost:8080/"
        },
        "id": "xjwktgTKLQJ7",
        "outputId": "24c60180-bb72-4d81-91bf-ccb8ec16144f"
      },
      "execution_count": 28,
      "outputs": [
        {
          "output_type": "stream",
          "name": "stdout",
          "text": [
            "['Bream' 'Smelt' 'Bream' 'Bream' 'Bream']\n"
          ]
        }
      ]
    },
    {
      "cell_type": "code",
      "source": [
        "print(lr.predict_proba(train_bream_smelt[:5]))  # 확률 확인(predict_proba)"
      ],
      "metadata": {
        "colab": {
          "base_uri": "https://localhost:8080/"
        },
        "id": "41nimV8-Nvc6",
        "outputId": "0314ade4-e642-4e38-aea4-67c89e60c58c"
      },
      "execution_count": 29,
      "outputs": [
        {
          "output_type": "stream",
          "name": "stdout",
          "text": [
            "[[0.99760007 0.00239993]\n",
            " [0.02737325 0.97262675]\n",
            " [0.99486386 0.00513614]\n",
            " [0.98585047 0.01414953]\n",
            " [0.99767419 0.00232581]]\n"
          ]
        }
      ]
    },
    {
      "cell_type": "code",
      "source": [
        "# 샘플마다 2개의 확률이 출력된다. (시그모이드 함수)\n",
        "# 첫번째 열이 0(음성)에 대한 확률, 두번째 열이 1(양성)에 대한 확률임\n",
        "# 사이킷런의 타겟값은 알파벳 순으로 정렬해서 사용함\n",
        "print(lr.classes_)  # Smlet(빙어)가 양성으로 사용됨\n",
        "# 두번째 샘플만 양성 클래스인 빙어인 확률이 높다. (나머지는 도미로 예측했다)\n",
        "# 만약 도미(Bream)를 양성 클래스로 사용하고 싶으면 전처리에서 Bream인 타겟값을 1로 만들어야 한다."
      ],
      "metadata": {
        "colab": {
          "base_uri": "https://localhost:8080/"
        },
        "id": "VrqNNT4fOLHi",
        "outputId": "8481a92f-d810-46f4-827a-141161e83d91"
      },
      "execution_count": 30,
      "outputs": [
        {
          "output_type": "stream",
          "name": "stdout",
          "text": [
            "['Bream' 'Smelt']\n"
          ]
        }
      ]
    },
    {
      "cell_type": "code",
      "source": [
        "# 로지스틱 회귀로 학습한 게수(중요도)를 알아보자.\n",
        "print(lr.coef_, lr.intercept_)"
      ],
      "metadata": {
        "colab": {
          "base_uri": "https://localhost:8080/"
        },
        "id": "VHz3IuLROZdN",
        "outputId": "2e3522a2-0c62-4706-96c7-0f9325467683"
      },
      "execution_count": 31,
      "outputs": [
        {
          "output_type": "stream",
          "name": "stdout",
          "text": [
            "[[-0.40451732 -0.57582787 -0.66248158 -1.01329614 -0.73123131]] [-2.16172774]\n"
          ]
        }
      ]
    },
    {
      "cell_type": "code",
      "source": [
        "# [[-0.40451732 -0.57582787 -0.66248158 -1.01329614 -0.73123131]] [-2.16172774]\n",
        "# 선형방정식에 대입해서 겨로가가 나옴\n",
        "# z = a * (Weight) + b * (Length) + c * (Diagonal) + d * (Height) + e * (Width) + f\n",
        "# z = -0.40451732 * (Weight) + -0.57582787 * (Length) + -0.66248158 * (Diagonal) +\n",
        "#     -1.01329614 * (Height) + -0.73123131 * (Width) + -2.16172774로 가중치가 결정됨\n",
        "\n",
        "decision = lr.decision_function(train_bream_smelt[:5])\n",
        "# train_bream_smelt의 처음 5개의 z값을 출력해보자\n",
        "print(decision)"
      ],
      "metadata": {
        "colab": {
          "base_uri": "https://localhost:8080/"
        },
        "id": "DF2f-SiIPwmX",
        "outputId": "78614958-6cf5-4e63-9ddb-94f2e3681df9"
      },
      "execution_count": 32,
      "outputs": [
        {
          "output_type": "stream",
          "name": "stdout",
          "text": [
            "[-6.02991358  3.57043428 -5.26630496 -4.24382314 -6.06135688]\n"
          ]
        }
      ]
    },
    {
      "cell_type": "code",
      "source": [
        "# 이 z값을 시그모이드 함수에 통과시키면 확율을 얻을 수 있다.\n",
        "# 파이썬의 사이파이(scipy) 라이브러리에도 시그모이드 함수가 있다. expit()\n",
        "\n",
        "from scipy.special import expit\n",
        "\n",
        "print(expit(decision))   # phi = 1 / (1 + np.exp(-z))\n",
        "\n",
        "# 여기까지가 2개의 물고기 분류하는 방법이다\n",
        "# 도미       빙어        도미       도미       도미\n",
        "#[0.00239993 0.97262675 0.00513614 0.01414953 0.00232581]"
      ],
      "metadata": {
        "colab": {
          "base_uri": "https://localhost:8080/"
        },
        "id": "2OZraSrLQ-p1",
        "outputId": "614c3772-cd75-4f36-a03b-b93c77dcdbba"
      },
      "execution_count": 37,
      "outputs": [
        {
          "output_type": "stream",
          "name": "stdout",
          "text": [
            "[0.00239993 0.97262675 0.00513614 0.01414953 0.00232581]\n"
          ]
        }
      ]
    },
    {
      "cell_type": "code",
      "source": [
        "# 다중분류로 진행 해보기 (2진분류는 True 아니면 모두 False처리 됨)\n",
        "# 현재 어종이 7개이므로 로지스틱 회귀로 분류를 학습함\n",
        "\n",
        "# LogisticRegression 클래스는 기본적으로 반복적인 알고리즘을 사용함 (max_iter=100)\n",
        "# max_iter=100 반복횟수를 100으로 하면 부족하다는 경고문구가 나와 1000으로 향상\n",
        "# LogisticRegression 클래스는 기본적으로 릿지회귀와 같은 계수 제곱을 규제한다. (L2규제)\n",
        "# 릿지회귀에서는 alpha매개변수로 규제의 양을 조절하였음 -> alpha가 크면 규제도 커짐\n",
        "# LogisticRegression 규제를 제어하는 매개변수가 C 로 되어있음 -> C가 작으면 규제가 커짐(기본1)\n",
        "# 규제를 완화하기 위해서 20으로 늘리겠다.\n",
        "\n",
        "lr = LogisticRegression(C=20, max_iter=1000)    # max_iter=1000 정확도를 위해서 1000번 반복\n",
        "lr.fit(train_scaled, train_target)\n",
        "\n",
        "print(lr.score(train_scaled, train_target))     # 93%\n",
        "print(lr.score(test_scaled, test_target))       # 92.5% 과소나 과대적합은 아닌듯함"
      ],
      "metadata": {
        "colab": {
          "base_uri": "https://localhost:8080/"
        },
        "id": "gdQLNxbrSQHr",
        "outputId": "ffa994be-83b4-4bf1-c858-5f416728fe63"
      },
      "execution_count": 38,
      "outputs": [
        {
          "output_type": "stream",
          "name": "stdout",
          "text": [
            "0.9327731092436975\n",
            "0.925\n"
          ]
        }
      ]
    },
    {
      "cell_type": "code",
      "source": [
        "print(lr.predict(test_scaled[:5]))    # 결과 분석시 다중분류로 나온다"
      ],
      "metadata": {
        "colab": {
          "base_uri": "https://localhost:8080/"
        },
        "id": "ow-5KjeMUhtu",
        "outputId": "a1e2bf43-00e6-44c6-99ed-f871ca2d7fc5"
      },
      "execution_count": 41,
      "outputs": [
        {
          "output_type": "stream",
          "name": "stdout",
          "text": [
            "['Perch' 'Smelt' 'Pike' 'Roach' 'Perch']\n"
          ]
        }
      ]
    },
    {
      "cell_type": "code",
      "source": [
        "porba = lr.predict_proba(test_scaled[:5])\n",
        "print(np.round(porba, decimals=3))\n",
        "# Bream   ParkkiPerch Pike  Roach Smelt Whitefish\n",
        "# [[0.    0.014 0.842 0.    0.135 0.007 0.003]\n",
        "#  [0.    0.003 0.044 0.    0.007 0.946 0.   ]\n",
        "#  [0.    0.    0.034 0.934 0.015 0.016 0.   ]\n",
        "#  [0.011 0.034 0.305 0.006 0.567 0.    0.076]\n",
        "#  [0.    0.    0.904 0.002 0.089 0.002 0.001]]"
      ],
      "metadata": {
        "colab": {
          "base_uri": "https://localhost:8080/"
        },
        "id": "bU_S28_zUkLT",
        "outputId": "9ecce350-da48-4b1e-b80b-66d306ae43f0"
      },
      "execution_count": 42,
      "outputs": [
        {
          "output_type": "stream",
          "name": "stdout",
          "text": [
            "[[0.    0.014 0.842 0.    0.135 0.007 0.003]\n",
            " [0.    0.003 0.044 0.    0.007 0.946 0.   ]\n",
            " [0.    0.    0.034 0.934 0.015 0.016 0.   ]\n",
            " [0.011 0.034 0.305 0.006 0.567 0.    0.076]\n",
            " [0.    0.    0.904 0.002 0.089 0.002 0.001]]\n"
          ]
        }
      ]
    },
    {
      "cell_type": "code",
      "source": [
        "print(lr.classes_)  # 알파벳 순으로 정렬되어 보임\n",
        "# 7개의 클래스가 명확하게 구분됨"
      ],
      "metadata": {
        "colab": {
          "base_uri": "https://localhost:8080/"
        },
        "id": "V3psKOUZU_hb",
        "outputId": "11fb8aeb-d2b1-42ba-e02d-f8f2b5ce4aac"
      },
      "execution_count": 43,
      "outputs": [
        {
          "output_type": "stream",
          "name": "stdout",
          "text": [
            "['Bream' 'Parkki' 'Perch' 'Pike' 'Roach' 'Smelt' 'Whitefish']\n"
          ]
        }
      ]
    },
    {
      "cell_type": "code",
      "source": [
        "# 다중 분류일 때 선형방정식\n",
        "print(lr.coef_.shape, lr.intercept_.shape)\n",
        "# (7, 5) 이 데이터는 5개의 특성을 사용함, 7행을 가짐\n",
        "# (7,) 7개의 행 -> 이진분류에서 보았던 z를 7개로 게산함\n",
        "# 다중분류는 클래스마다 z값을 하나씩 계산한다는 의미이다.\n",
        "# 당연히 가장높은 z값을 출력하는 클래스가 예측 클래스가 된다."
      ],
      "metadata": {
        "colab": {
          "base_uri": "https://localhost:8080/"
        },
        "id": "MsEvv8pwVg1E",
        "outputId": "865ef250-989d-4435-b60e-ccfd7073f82c"
      },
      "execution_count": 45,
      "outputs": [
        {
          "output_type": "stream",
          "name": "stdout",
          "text": [
            "(7, 5) (7,)\n"
          ]
        }
      ]
    },
    {
      "cell_type": "code",
      "source": [
        "# 그럼 확률은? 이진분류에서 시그모이드 함수를 사용해 z를 0과 1사이 값으로 변환했었다.\n",
        "# 그러나 다중분류에서는 소프트맥스 함수를 사용해서 7개의 z값을 확률로 변환한다.\n",
        "\n",
        "# 소프트맥스 계산법"
      ],
      "metadata": {
        "id": "8WTLTNRUWUCK"
      },
      "execution_count": null,
      "outputs": []
    },
    {
      "cell_type": "markdown",
      "source": [
        "![함수.png](data:image/png;base64,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)"
      ],
      "metadata": {
        "id": "PieIZDMDXGNU"
      }
    },
    {
      "cell_type": "code",
      "source": [
        "decision = lr.decision_function(test_scaled[:5])\n",
        "print(\"5개 샘플에 대한 z1~ z7까지 값 \\n\")\n",
        "for idx,z in enumerate(decision):\n",
        "    print(f\"{idx}번째 샘플의 z값\\n {z}\\n\")"
      ],
      "metadata": {
        "colab": {
          "base_uri": "https://localhost:8080/"
        },
        "id": "U-8jx67xXMvf",
        "outputId": "a61b9d73-c4f6-4483-8af4-bef28222063b"
      },
      "execution_count": 47,
      "outputs": [
        {
          "output_type": "stream",
          "name": "stdout",
          "text": [
            "5개 샘플에 대한 z1~ z7까지 값 \n",
            "\n",
            "0번째 샘플의 z값\n",
            " [-6.50722814  1.03902666  5.16819138 -2.75730346  3.33655201  0.34625859\n",
            " -0.62549704]\n",
            "\n",
            "1번째 샘플의 z값\n",
            " [-10.87900747   1.94410609   4.77600607  -2.42306183   2.98748716\n",
            "   7.84171377  -4.24724379]\n",
            "\n",
            "2번째 샘플의 z값\n",
            " [-4.33809959 -6.23690282  3.16746648  6.48091391  2.36412675  2.43431898\n",
            " -3.87182371]\n",
            "\n",
            "3번째 샘플의 z값\n",
            " [-0.69143994  0.44628533  2.64291146 -1.21457286  3.2612452  -5.70143404\n",
            "  1.25700485]\n",
            "\n",
            "4번째 샘플의 z값\n",
            " [-6.40138612 -1.99137623  5.81526372 -0.134644    3.49905134 -0.08753485\n",
            " -0.69937385]\n",
            "\n"
          ]
        }
      ]
    },
    {
      "cell_type": "code",
      "source": [
        "from scipy.special import softmax\n",
        "print(\"소프트맥스 함수로 예측 확률 구하기\\n\")\n",
        "class_ = lr.classes_.tolist() + [\"예측결과\"]\n",
        "prd = lr.predict(test_scaled[:5]).reshape(5,-1)\n",
        "sm = softmax(decision, axis=1).round(2) * 100\n",
        "con = np.column_stack((sm,prd))\n",
        "print(pd.DataFrame(con,columns=class_))\n"
      ],
      "metadata": {
        "colab": {
          "base_uri": "https://localhost:8080/"
        },
        "id": "yAXXLlqHYPgZ",
        "outputId": "7504e8f6-5414-4021-ac9f-91093541d0f1"
      },
      "execution_count": 51,
      "outputs": [
        {
          "output_type": "stream",
          "name": "stdout",
          "text": [
            "소프트맥스 함수로 예측 확률 구하기\n",
            "\n",
            "  Bream Parkki Perch  Pike Roach Smelt Whitefish   예측결과\n",
            "0   0.0    1.0  84.0   0.0  13.0   1.0       0.0  Perch\n",
            "1   0.0    0.0   4.0   0.0   1.0  95.0       0.0  Smelt\n",
            "2   0.0    0.0   3.0  93.0   2.0   2.0       0.0   Pike\n",
            "3   1.0    3.0  31.0   1.0  57.0   0.0       8.0  Roach\n",
            "4   0.0    0.0  90.0   0.0   9.0   0.0       0.0  Perch\n"
          ]
        }
      ]
    }
  ]
}